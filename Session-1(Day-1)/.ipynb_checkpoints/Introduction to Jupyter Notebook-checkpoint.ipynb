{
 "cells": [
  {
   "cell_type": "markdown",
   "metadata": {},
   "source": [
    "# Understanding Jupyter Notebook Interface\n",
    "- Print \"Hello World\"\n",
    "- How to run code\n",
    "- Navigating around Jupyter notebook\n",
    "- Playing a Random Guessing Game"
   ]
  },
  {
   "cell_type": "code",
   "execution_count": null,
   "metadata": {},
   "outputs": [
    {
     "name": "stdout",
     "output_type": "stream",
     "text": [
      "\t\t\t\t\t\t\t Guessing Game\t\t\n",
      "\t\t\t\t\t\t\tBy Nabeel Ahmed\n",
      "Enter a number in 1 to 100 inclusive: 56\n",
      "Too Low! Chose Larger number.\n",
      "Enter a number in 1 to 100 inclusive: 78\n",
      "Too Low! Chose Larger number.\n",
      "Enter a number in 1 to 100 inclusive: 82\n",
      "Too High! Chose smaller number.\n"
     ]
    }
   ],
   "source": [
    "import random\n",
    "magic_num = random.randint(1,101)\n",
    "print('\\t\\t\\t\\t\\t\\t\\t Guessing Game\\t\\t')\n",
    "print('\\t\\t\\t\\t\\t\\t\\tBy Nabeel Ahmed')\n",
    "while True:\n",
    "    user_input = int(input('Enter a number in 1 to 100 inclusive: '))\n",
    "    if user_input > magic_num:\n",
    "        print('Too High! Chose smaller number.')\n",
    "        continue\n",
    "    elif user_input < magic_num:\n",
    "        print('Too Low! Chose Larger number.')\n",
    "        continue\n",
    "    else:\n",
    "        print('Congratulations! You have guessed the number {} correctly!'.format(magic_num))\n",
    "        break"
   ]
  },
  {
   "cell_type": "markdown",
   "metadata": {},
   "source": [
    "## What if I wannt to quit game in the middle, when I get exhausted? Can I do that?\n",
    "\n",
    "### Yes! Definietly you can. With slight modification in code you can make the code work as you want it to be.\n",
    "\n",
    "# Can YOU Modify this code? "
   ]
  },
  {
   "cell_type": "code",
   "execution_count": null,
   "metadata": {},
   "outputs": [],
   "source": []
  }
 ],
 "metadata": {
  "kernelspec": {
   "display_name": "Python 3",
   "language": "python",
   "name": "python3"
  },
  "language_info": {
   "codemirror_mode": {
    "name": "ipython",
    "version": 3
   },
   "file_extension": ".py",
   "mimetype": "text/x-python",
   "name": "python",
   "nbconvert_exporter": "python",
   "pygments_lexer": "ipython3",
   "version": "3.7.6"
  }
 },
 "nbformat": 4,
 "nbformat_minor": 4
}
